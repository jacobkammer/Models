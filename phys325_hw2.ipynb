{
  "nbformat": 4,
  "nbformat_minor": 0,
  "metadata": {
    "colab": {
      "provenance": [],
      "collapsed_sections": [],
      "include_colab_link": true
    },
    "kernelspec": {
      "name": "python3",
      "display_name": "Python 3"
    }
  },
  "cells": [
    {
      "cell_type": "markdown",
      "metadata": {
        "id": "view-in-github",
        "colab_type": "text"
      },
      "source": [
        "<a href=\"https://colab.research.google.com/github/jacobkammer/Models/blob/master/phys325_hw2.ipynb\" target=\"_parent\"><img src=\"https://colab.research.google.com/assets/colab-badge.svg\" alt=\"Open In Colab\"/></a>"
      ]
    },
    {
      "cell_type": "markdown",
      "metadata": {
        "id": "QZAB5dCuEe4y"
      },
      "source": [
        "# Due Thursday September 8, 2022 (11:59 pm) \n"
      ]
    },
    {
      "cell_type": "markdown",
      "metadata": {
        "id": "fzLzNO69_S0M"
      },
      "source": [
        "# Problem 1: Black-body radiation (15 pts)\n"
      ]
    },
    {
      "cell_type": "markdown",
      "metadata": {
        "id": "lBr6GQZH_ecx"
      },
      "source": [
        "The Planck function for black-body radiation is given by\n",
        "\\begin{equation}\n",
        "B(\\nu) = \\frac{2 h \\nu^3}{c^2} \\frac{1}{e^{h \\nu / k_B T} - 1}\n",
        "\\end{equation}\n",
        "\n",
        "where\n",
        "\n",
        "$h = 6.626 \\times 10^{-34} \\ \\rm J \\cdot s $\n",
        "\n",
        "$c = 2.999 \\times 10^8 \\ \\rm m/s $\n",
        "\n",
        "$k_B = 1.381 \\times 10^{-23} \\ \\rm J/K$\n",
        "\n"
      ]
    },
    {
      "cell_type": "markdown",
      "metadata": {
        "id": "PUU14l9NMKlQ"
      },
      "source": [
        "(a) Create an array called nu_arr that ranges from 1e+9 to 1e+12, with 1000 equally spaced intervals.  \n",
        "\n",
        "Hint: use `np.linspace`  (2pts)\n"
      ]
    },
    {
      "cell_type": "code",
      "metadata": {
        "id": "n8Dqbsp-Mzk4"
      },
      "source": [
        "import numpy as np\n",
        "h = 6.626e-34\n",
        "c = 2.999e8\n",
        "kb = 1.381e-23\n",
        "nu_arr = np.linspace(1e9,1e12,1000 )"
      ],
      "execution_count": 14,
      "outputs": []
    },
    {
      "cell_type": "markdown",
      "metadata": {
        "id": "iR46Woz6MtEm"
      },
      "source": [
        "(b) For T = 3 K, evaluate $B_\\nu$ at nu_arr.\n",
        "\n",
        "Plot the the function B vs. nu.  (3pts)\n"
      ]
    },
    {
      "cell_type": "code",
      "metadata": {
        "id": "Jj2lDlJt_dMX",
        "colab": {
          "base_uri": "https://localhost:8080/",
          "height": 289
        },
        "outputId": "3a467477-6882-41b3-ed2e-67d52056e266"
      },
      "source": [
        "T = 3\n",
        "def f(nu):\n",
        "  output = (2*h*(nu)**3/c**2) * (1/np.exp(h*nu/kb*T) - 1)\n",
        "  return output\n",
        "\n",
        "f(nu_arr)\n",
        "\n",
        "import matplotlib.pyplot as plt\n",
        "plt.plot(nu_arr, f(nu_arr))\n",
        "plt.show()"
      ],
      "execution_count": 15,
      "outputs": [
        {
          "output_type": "display_data",
          "data": {
            "text/plain": [
              "<Figure size 432x288 with 1 Axes>"
            ],
            "image/png": "[encoded data removed]"
          },
          "metadata": {
            "needs_background": "light"
          }
        }
      ]
    },
    {
      "cell_type": "markdown",
      "metadata": {
        "id": "5xKeRTyxWdtM"
      },
      "source": [
        "(c) What is the frequency at the peak of the black-body spectrum?\n",
        "\n",
        "Hint: use  `np.argmax`.  (2pts)"
      ]
    },
    {
      "cell_type": "code",
      "metadata": {
        "id": "difvhu0gXLEl",
        "colab": {
          "base_uri": "https://localhost:8080/"
        },
        "outputId": "9945f854-c9d7-4713-9d8d-bf00c86dee70"
      },
      "source": [
        "max = np.argmax(f(nu_arr))\n",
        "print(max)\n",
        "nu_arr[0]"
      ],
      "execution_count": 16,
      "outputs": [
        {
          "output_type": "stream",
          "name": "stdout",
          "text": [
            "0\n"
          ]
        },
        {
          "output_type": "execute_result",
          "data": {
            "text/plain": [
              "1000000000.0"
            ]
          },
          "metadata": {},
          "execution_count": 16
        }
      ]
    },
    {
      "cell_type": "markdown",
      "metadata": {
        "id": "6u2gXRMcayi0"
      },
      "source": [
        "(d) From Wien's dispalcement law, we know that the peak wavelength of a black-body radiation is given by \n",
        "\n",
        "$\\nu_{\\rm peak} = {5.879 \\times 10^{10}}{T}$\n",
        "\n",
        "\n",
        "Use this formula to calcualte the peak frequency at $T = 3K$.\n",
        "\n",
        "Is it consistent with your numerical result?  (2pts)"
      ]
    },
    {
      "cell_type": "code",
      "metadata": {
        "id": "H7tDq6kmjiqD",
        "colab": {
          "base_uri": "https://localhost:8080/",
          "height": 35
        },
        "outputId": "19d839c9-5ce6-4f95-e045-2deb2deb499e"
      },
      "source": [
        "T = 3\n",
        "vpeak = 5.87e10*T\n",
        "vpeak\n",
        "np.format_float_scientific(vpeak)"
      ],
      "execution_count": 19,
      "outputs": [
        {
          "output_type": "execute_result",
          "data": {
            "text/plain": [
              "'1.761e+11'"
            ],
            "application/vnd.google.colaboratory.intrinsic+json": {
              "type": "string"
            }
          },
          "metadata": {},
          "execution_count": 19
        }
      ]
    },
    {
      "cell_type": "markdown",
      "metadata": {
        "id": "arCcd7K8BNKa"
      },
      "source": [
        "(e) Write a function with two arguments: T and nu_arr.  This function plots B vs. nu and calculate the peak frequency. (2pts)"
      ]
    },
    {
      "cell_type": "code",
      "metadata": {
        "id": "RJEdNrgV_Vyp",
        "colab": {
          "base_uri": "https://localhost:8080/"
        },
        "outputId": "66c2dead-c067-46de-906d-4dc3cbe8285a"
      },
      "source": [
        "def f(T, nu):\n",
        "  B = (2*h*(nu)**3/c**2) * (1/np.exp(h*nu/kb*T) - 1)\n",
        "  Fpeak = 5.879e10*T\n",
        "  return B, Fpeak\n",
        "\n",
        "f(3, nu_arr)\n",
        "\n",
        "#plt.plot(nu_arr, f(3, nu_arr))\n",
        "type(nu_arr)\n",
        "type(f(T, nu_arr))"
      ],
      "execution_count": 30,
      "outputs": [
        {
          "output_type": "execute_result",
          "data": {
            "text/plain": [
              "tuple"
            ]
          },
          "metadata": {},
          "execution_count": 30
        }
      ]
    },
    {
      "cell_type": "markdown",
      "metadata": {
        "id": "8eTI_iWQBb0k"
      },
      "source": [
        "(f) Plot B vs. nu for 310K (human body).  Try different range of nu to show the peak of the black-body. What is the peak frequency? \n",
        "(2pts)"
      ]
    },
    {
      "cell_type": "code",
      "metadata": {
        "id": "LTsMlpLJTNQn"
      },
      "source": [],
      "execution_count": 16,
      "outputs": []
    },
    {
      "cell_type": "markdown",
      "metadata": {
        "id": "MlmjRlMONpw6"
      },
      "source": [
        "(g) Plot B vs. nu 6000K (the Sun).  Similary, try different ranges of nu to show the peak. What is the peak frequency?  (2pts)"
      ]
    },
    {
      "cell_type": "code",
      "metadata": {
        "id": "CcyDKuRq_xWn"
      },
      "source": [],
      "execution_count": 16,
      "outputs": []
    },
    {
      "cell_type": "markdown",
      "metadata": {
        "id": "zeBk8yoNBz8b"
      },
      "source": [
        "# Problem 2:  (15 pts)\n",
        "\n",
        "(a,b,c are 2pts each; d,e,f are 3pts each)\n",
        "\n",
        "A quantum dot system can be modeled by an electron in an infinite square potential well.\n",
        "The energy levels of an electron in an infinite square potential well is given by\n",
        "\\begin{equation}\n",
        "E_n=\\frac{n^2\\hbar^2\\pi^2}{2 m_e L^2},\n",
        "\\end{equation}\n",
        "\n",
        "where $m_e$ is the electron mass, $\\hbar$ is the reduced Planck constant, $L$ is the width of the well, and $n$ is the quantum number for the energy level (1, 2, 3, $\\ldots$). \n",
        "\n",
        "\n",
        "$m_e = 9.11\\times10^{-31} \\ \\rm kg$\n",
        "\n",
        "$h = 6.626\\times10^{-34}  \\ \\rm J \\cdot s$\n",
        "\n",
        "$\\hbar = \\frac{h}{2\\pi} \\ \\rm J \\cdot s$\n",
        "\n",
        "\n"
      ]
    },
    {
      "cell_type": "markdown",
      "metadata": {
        "id": "gq7ggU8xCyX0"
      },
      "source": [
        "\n",
        "(a) For $L= 10^{-9} \\ \\rm m$, print out the energy levels $E_n$ for $n =1, 2, \\cdots, 5$.  Avoid for-loop.  (2pts)"
      ]
    },
    {
      "cell_type": "code",
      "metadata": {
        "id": "dbEj1q8LC3Vt"
      },
      "source": [],
      "execution_count": 16,
      "outputs": []
    },
    {
      "cell_type": "markdown",
      "metadata": {
        "id": "DTfl1d4vunq2"
      },
      "source": [
        "(b) \n",
        "When the electron transits from $n_i$ (inital state) to $n_f$ (final state), a photon will be emitted and carries the energy difference between the two levels. \n",
        "\n",
        "\n",
        "Print the energy differnece between $n_i=2,3,4,5$ abd $n_f=1$.    (2pts)"
      ]
    },
    {
      "cell_type": "code",
      "metadata": {
        "id": "sNKqMcRw6OAN"
      },
      "source": [],
      "execution_count": 16,
      "outputs": []
    },
    {
      "cell_type": "markdown",
      "metadata": {
        "id": "JjIZTxzaIzUu"
      },
      "source": [
        "(c) Convert these photon energy values to freqencies, and then convert to wavelengths (in nm). \n",
        "\n",
        "Hint: $E = h \\nu$, $\\lambda = c / \\nu$\n",
        "\n",
        "Hint: `lambda` is a reserved word in Python.  Call wavelength something else.\n",
        "\n",
        "Are these wavelengths visible (380-700nm)?  (2 pts)"
      ]
    },
    {
      "cell_type": "code",
      "metadata": {
        "id": "BUmoiKlUJER6"
      },
      "source": [],
      "execution_count": 16,
      "outputs": []
    },
    {
      "cell_type": "markdown",
      "metadata": {
        "id": "7mxz0wN7vCAv"
      },
      "source": [
        "(d) Let's focus on $n_i = 2$ to $n_f = 1$, as it is the most commonly used.\n",
        "\n",
        "\n",
        "Define a function with argument $L$ and returns the photon's wavelength associated with $n_i = 2$ to $n_i = 1$ transition.   (3 pts)\n",
        "\n",
        "\n"
      ]
    },
    {
      "cell_type": "code",
      "metadata": {
        "id": "25M-OaDs3Qfm"
      },
      "source": [],
      "execution_count": 16,
      "outputs": []
    },
    {
      "cell_type": "markdown",
      "metadata": {
        "id": "nP-4EiciC2az"
      },
      "source": [
        "(e) Plot the photon's wavelength vs. $L$.  $L$ is an array spanning $10^{-10}$ to $10^{-9}$ with 100 elements.\n",
        "\n",
        "Hint: use `np.linspace`  (3 pts)"
      ]
    },
    {
      "cell_type": "code",
      "metadata": {
        "id": "DN10S74-Ew_i"
      },
      "source": [],
      "execution_count": 16,
      "outputs": []
    },
    {
      "cell_type": "markdown",
      "metadata": {
        "id": "4TZvU0e-H1Se"
      },
      "source": [
        "(f) What is the range of $L$ that can produce visible photons?   \n",
        "Hint: use array filtering (3 pts)\n",
        "\n"
      ]
    },
    {
      "cell_type": "code",
      "metadata": {
        "id": "Y95FvTU2HyN0"
      },
      "source": [],
      "execution_count": 16,
      "outputs": []
    },
    {
      "cell_type": "markdown",
      "metadata": {
        "id": "f31ZX_V_6ipc"
      },
      "source": [
        "We can create photons of different color by changing the size the quantum well!  \n",
        "Google \"quantum dot display\" to learn more."
      ]
    }
  ]
}